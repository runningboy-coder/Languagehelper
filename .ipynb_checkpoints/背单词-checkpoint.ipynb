{
 "cells": [
  {
   "cell_type": "code",
   "execution_count": 3,
   "id": "34004352",
   "metadata": {},
   "outputs": [],
   "source": [
    "from os import listdir\n",
    "from os.path import splitext, isfile\n",
    "from pandas_ods_reader import read_ods\n",
    "import pandas as pd\n",
    "import numpy as np\n",
    "import random"
   ]
  },
  {
   "cell_type": "code",
   "execution_count": 21,
   "id": "aca818bd",
   "metadata": {},
   "outputs": [
    {
     "ename": "SyntaxError",
     "evalue": "invalid character '）' (U+FF09) (Temp/ipykernel_85216/3379318980.py, line 18)",
     "output_type": "error",
     "traceback": [
      "\u001b[1;36m  File \u001b[1;32m\"C:\\Users\\lenovo\\AppData\\Local\\Temp/ipykernel_85216/3379318980.py\"\u001b[1;36m, line \u001b[1;32m18\u001b[0m\n\u001b[1;33m    word = random.choice(wordlist.sample(1)）\u001b[0m\n\u001b[1;37m                                           ^\u001b[0m\n\u001b[1;31mSyntaxError\u001b[0m\u001b[1;31m:\u001b[0m invalid character '）' (U+FF09)\n"
     ]
    }
   ],
   "source": [
    "\n",
    "def convert_file(path):\n",
    "    ext = splitext(path)[-1].lower()\n",
    "    if ext.endswith('.csv'):\n",
    "        wordlist = pd.read_csv(path)\n",
    "    #display(df)\n",
    "    #wordlist = clean_dataframe(df)\n",
    "    return wordlist\n",
    "\n",
    "def question(wordlist, number_of_question):\n",
    "    word_guessed = {}\n",
    "    word_incorrect = {}\n",
    "    correct = 0;\n",
    "    guess_time = 1;\n",
    "    continue_learning = True\n",
    "    while continue_learning:\n",
    "        if guess_time >= int(number_of_question):\n",
    "            continue_learning = False\n",
    "        word = random.choice(wordlist.sample(1)）\n",
    "        key = word[0]\n",
    "        value = word[1]\n",
    "        print(word)\n",
    "        print(f\"question {guess_time} {key}(input the meaning of this word:)\")\n",
    "        answer = input(\"input your answer(you could always input'q' to quit):\")\n",
    "        if answer == value:\n",
    "            print(\"Correct!\")\n",
    "            correct += 1\n",
    "            word_guessed[key] = value\n",
    "            del wordlist[key]\n",
    "        elif answer.lower() != 'q':\n",
    "            word_incorrect[key] =answer\n",
    "            print(\"Sorry, the answer is wrong\")\n",
    "        else:\n",
    "            continue_learning = False\n",
    "        guess_time += 1\n",
    "    \n",
    "\n",
    "def main():\n",
    "    file_path = \"./data/max_after_clean.csv\"\n",
    "    wordlist = convert_file(file_path)\n",
    "    print(f\"There are {len(wordlist)} words in the lsit\",end='\\n')\n",
    "    number_of_questions = input(\"how many questions do you want to be asked?\")\n",
    "    not_number = True\n",
    "    while not_number:\n",
    "        if number_of_questions.isnumeric():\n",
    "            not_number = False\n",
    "        else:\n",
    "            number_of_questions = input('please input a number')\n",
    "    print(\"You can quit any time during the exericise by enter 'q'\")\n",
    "    #main\n",
    "    question(wordlist, number_of_questions)\n",
    "\n",
    "    if input(\"Do you want to practice again?(y/n):\").lower() == 'y':\n",
    "        continue_practice = True\n",
    "    else:\n",
    "        print(\"well done! See you next time!\")\n",
    "        continue_practice = False"
   ]
  },
  {
   "cell_type": "code",
   "execution_count": 22,
   "id": "b9c09c9d",
   "metadata": {},
   "outputs": [
    {
     "name": "stdout",
     "output_type": "stream",
     "text": [
      "There are 1269 words in the lsit\n",
      "how many questions do you want to be asked?3\n",
      "You can quit any time during the exericise by enter 'q'\n",
      "('解释', 0       Free Dictionary在线词典\\r\\r\\n韦氏在线词典\\r\\r\\n必应在线词典\\r\\...\n",
      "1                                              大量，许多, 一大群\n",
      "2       abide\\r\\r\\n  [abided, abided, abiding]\\r\\r\\n a...\n",
      "3       abide by\\r\\r\\n     abide by sth formal to obey...\n",
      "4       adj. 突然的；唐突的；陡峭的；生硬的\\r\\r\\n\\r\\r\\n\\r\\r\\n副 词:  \\r...\n",
      "                              ...                        \n",
      "1264                         yùn dòng yuán \\r\\r\\n athlete\n",
      "1265    zhōu \\r\\r\\n \\r\\r\\n\\r\\r\\n- porridge\\r\\r\\n- grue...\n",
      "1266    zhǔn bèi \\r\\r\\n \\r\\r\\n\\r\\r\\n- prepare\\r\\r\\n- s...\n",
      "1267    zì yóu de \\r\\r\\n disengaged, free, loose, perm...\n",
      "1268    zì yóu dì \\r\\r\\n allodiality, allodially, free...\n",
      "Name: 解释, Length: 1269, dtype: object)\n",
      "question 1 解释(input the meaning of this word:)\n",
      "input your answer(you could always input'q' to quit):q\n"
     ]
    },
    {
     "ename": "ValueError",
     "evalue": "The truth value of a Series is ambiguous. Use a.empty, a.bool(), a.item(), a.any() or a.all().",
     "output_type": "error",
     "traceback": [
      "\u001b[1;31m---------------------------------------------------------------------------\u001b[0m",
      "\u001b[1;31mValueError\u001b[0m                                Traceback (most recent call last)",
      "\u001b[1;32m~\\AppData\\Local\\Temp/ipykernel_85216/1759737772.py\u001b[0m in \u001b[0;36m<module>\u001b[1;34m\u001b[0m\n\u001b[1;32m----> 1\u001b[1;33m \u001b[0mmain\u001b[0m\u001b[1;33m(\u001b[0m\u001b[1;33m)\u001b[0m\u001b[1;33m\u001b[0m\u001b[1;33m\u001b[0m\u001b[0m\n\u001b[0m",
      "\u001b[1;32m~\\AppData\\Local\\Temp/ipykernel_85216/1823506653.py\u001b[0m in \u001b[0;36mmain\u001b[1;34m()\u001b[0m\n\u001b[0;32m     48\u001b[0m     \u001b[0mprint\u001b[0m\u001b[1;33m(\u001b[0m\u001b[1;34m\"You can quit any time during the exericise by enter 'q'\"\u001b[0m\u001b[1;33m)\u001b[0m\u001b[1;33m\u001b[0m\u001b[1;33m\u001b[0m\u001b[0m\n\u001b[0;32m     49\u001b[0m     \u001b[1;31m#main\u001b[0m\u001b[1;33m\u001b[0m\u001b[1;33m\u001b[0m\u001b[0m\n\u001b[1;32m---> 50\u001b[1;33m     \u001b[0mquestion\u001b[0m\u001b[1;33m(\u001b[0m\u001b[0mwordlist\u001b[0m\u001b[1;33m,\u001b[0m \u001b[0mnumber_of_questions\u001b[0m\u001b[1;33m)\u001b[0m\u001b[1;33m\u001b[0m\u001b[1;33m\u001b[0m\u001b[0m\n\u001b[0m\u001b[0;32m     51\u001b[0m \u001b[1;33m\u001b[0m\u001b[0m\n\u001b[0;32m     52\u001b[0m     \u001b[1;32mif\u001b[0m \u001b[0minput\u001b[0m\u001b[1;33m(\u001b[0m\u001b[1;34m\"Do you want to practice again?(y/n):\"\u001b[0m\u001b[1;33m)\u001b[0m\u001b[1;33m.\u001b[0m\u001b[0mlower\u001b[0m\u001b[1;33m(\u001b[0m\u001b[1;33m)\u001b[0m \u001b[1;33m==\u001b[0m \u001b[1;34m'y'\u001b[0m\u001b[1;33m:\u001b[0m\u001b[1;33m\u001b[0m\u001b[1;33m\u001b[0m\u001b[0m\n",
      "\u001b[1;32m~\\AppData\\Local\\Temp/ipykernel_85216/1823506653.py\u001b[0m in \u001b[0;36mquestion\u001b[1;34m(wordlist, number_of_question)\u001b[0m\n\u001b[0;32m     22\u001b[0m         \u001b[0mprint\u001b[0m\u001b[1;33m(\u001b[0m\u001b[1;34mf\"question {guess_time} {key}(input the meaning of this word:)\"\u001b[0m\u001b[1;33m)\u001b[0m\u001b[1;33m\u001b[0m\u001b[1;33m\u001b[0m\u001b[0m\n\u001b[0;32m     23\u001b[0m         \u001b[0manswer\u001b[0m \u001b[1;33m=\u001b[0m \u001b[0minput\u001b[0m\u001b[1;33m(\u001b[0m\u001b[1;34m\"input your answer(you could always input'q' to quit):\"\u001b[0m\u001b[1;33m)\u001b[0m\u001b[1;33m\u001b[0m\u001b[1;33m\u001b[0m\u001b[0m\n\u001b[1;32m---> 24\u001b[1;33m         \u001b[1;32mif\u001b[0m \u001b[0manswer\u001b[0m \u001b[1;33m==\u001b[0m \u001b[0mvalue\u001b[0m\u001b[1;33m:\u001b[0m\u001b[1;33m\u001b[0m\u001b[1;33m\u001b[0m\u001b[0m\n\u001b[0m\u001b[0;32m     25\u001b[0m             \u001b[0mprint\u001b[0m\u001b[1;33m(\u001b[0m\u001b[1;34m\"Correct!\"\u001b[0m\u001b[1;33m)\u001b[0m\u001b[1;33m\u001b[0m\u001b[1;33m\u001b[0m\u001b[0m\n\u001b[0;32m     26\u001b[0m             \u001b[0mcorrect\u001b[0m \u001b[1;33m+=\u001b[0m \u001b[1;36m1\u001b[0m\u001b[1;33m\u001b[0m\u001b[1;33m\u001b[0m\u001b[0m\n",
      "\u001b[1;32m~\\anaconda3\\lib\\site-packages\\pandas\\core\\generic.py\u001b[0m in \u001b[0;36m__nonzero__\u001b[1;34m(self)\u001b[0m\n\u001b[0;32m   1535\u001b[0m     \u001b[1;33m@\u001b[0m\u001b[0mfinal\u001b[0m\u001b[1;33m\u001b[0m\u001b[1;33m\u001b[0m\u001b[0m\n\u001b[0;32m   1536\u001b[0m     \u001b[1;32mdef\u001b[0m \u001b[0m__nonzero__\u001b[0m\u001b[1;33m(\u001b[0m\u001b[0mself\u001b[0m\u001b[1;33m)\u001b[0m\u001b[1;33m:\u001b[0m\u001b[1;33m\u001b[0m\u001b[1;33m\u001b[0m\u001b[0m\n\u001b[1;32m-> 1537\u001b[1;33m         raise ValueError(\n\u001b[0m\u001b[0;32m   1538\u001b[0m             \u001b[1;34mf\"The truth value of a {type(self).__name__} is ambiguous. \"\u001b[0m\u001b[1;33m\u001b[0m\u001b[1;33m\u001b[0m\u001b[0m\n\u001b[0;32m   1539\u001b[0m             \u001b[1;34m\"Use a.empty, a.bool(), a.item(), a.any() or a.all().\"\u001b[0m\u001b[1;33m\u001b[0m\u001b[1;33m\u001b[0m\u001b[0m\n",
      "\u001b[1;31mValueError\u001b[0m: The truth value of a Series is ambiguous. Use a.empty, a.bool(), a.item(), a.any() or a.all()."
     ]
    }
   ],
   "source": [
    "main()\n"
   ]
  },
  {
   "cell_type": "markdown",
   "id": "1851a271",
   "metadata": {},
   "source": [
    "# 下一步计划 把单词转成anki卡片\n",
    "# 自动更新所查单词，并制成Anki卡片"
   ]
  }
 ],
 "metadata": {
  "kernelspec": {
   "display_name": "Python 3 (ipykernel)",
   "language": "python",
   "name": "python3"
  },
  "language_info": {
   "codemirror_mode": {
    "name": "ipython",
    "version": 3
   },
   "file_extension": ".py",
   "mimetype": "text/x-python",
   "name": "python",
   "nbconvert_exporter": "python",
   "pygments_lexer": "ipython3",
   "version": "3.9.7"
  }
 },
 "nbformat": 4,
 "nbformat_minor": 5
}
